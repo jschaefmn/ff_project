{
 "cells": [
  {
   "cell_type": "code",
   "execution_count": null,
   "id": "99852d94-b7f1-44c0-b10c-c4f3f17f3712",
   "metadata": {},
   "outputs": [],
   "source": [
    "import pandas as pd\n",
    "import seaborn as sns\n",
    "from matplotlib import pyplot as plt"
   ]
  },
  {
   "cell_type": "code",
   "execution_count": null,
   "id": "337af70b-b014-486e-922c-594f2825cefa",
   "metadata": {},
   "outputs": [],
   "source": [
    "df = pd.read_csv('data/2023_season_data.csv')\n",
    "df.drop(['Fmb', 'GS'], axis=1, inplace=True)"
   ]
  },
  {
   "cell_type": "code",
   "execution_count": null,
   "id": "167646c6-4c99-4f69-a524-cad3363a9418",
   "metadata": {},
   "outputs": [],
   "source": [
    "df['Player'] = df ['Player'].apply(lambda x: x.split('*')[0]).apply(lambda x: x.split('\\\\')[0])"
   ]
  },
  {
   "cell_type": "code",
   "execution_count": null,
   "id": "93b8cd1a-9aa0-4bfe-af78-3cd89e187fc0",
   "metadata": {},
   "outputs": [],
   "source": [
    "df"
   ]
  },
  {
   "cell_type": "code",
   "execution_count": null,
   "id": "e151ec20-9d9c-474e-b0ab-3dfd1666b16a",
   "metadata": {},
   "outputs": [],
   "source": [
    "df.rename({\n",
    "    'TD': 'PassTD',\n",
    "    'TD.1': 'RushTD',\n",
    "    'TD.2': 'RecTD',\n",
    "    'TD.3': 'TotTD',\n",
    "    'Yds': 'PassYDs',\n",
    "    'Yds.1': 'RushYDs',\n",
    "    'Yds.2': 'RecYDs',\n",
    "    'Att': 'PassAtt',\n",
    "    'Att.1': 'RushAtt'\n",
    "}, axis=1, inplace=True)"
   ]
  },
  {
   "cell_type": "code",
   "execution_count": null,
   "id": "bd7e4fac-48ec-4c2b-a5f4-7a4156ed327b",
   "metadata": {},
   "outputs": [],
   "source": [
    "df"
   ]
  },
  {
   "cell_type": "code",
   "execution_count": null,
   "id": "247062dd-d2be-45d7-8a2f-52bdefe6cdc5",
   "metadata": {},
   "outputs": [],
   "source": [
    "#create separate dataframes based off position\n",
    "rb_df = df[df['FantPos'] == 'RB']\n",
    "qb_df = df[df['FantPos'] == 'QB']\n",
    "wr_df = df[df['FantPos'] == 'WR']\n",
    "te_df = df[df['FantPos'] == 'TE']"
   ]
  },
  {
   "cell_type": "code",
   "execution_count": null,
   "id": "b32bd7ac-42f0-44ae-ac4b-5788773b2c6b",
   "metadata": {},
   "outputs": [],
   "source": [
    "rb_df"
   ]
  },
  {
   "cell_type": "code",
   "execution_count": null,
   "id": "51d6e47d-a31e-4015-86aa-2b7da79e0d74",
   "metadata": {},
   "outputs": [],
   "source": [
    "qb_df"
   ]
  },
  {
   "cell_type": "code",
   "execution_count": null,
   "id": "2ef9b2fe-c882-4fd5-bb60-8342dfe439de",
   "metadata": {},
   "outputs": [],
   "source": [
    "wr_df"
   ]
  },
  {
   "cell_type": "code",
   "execution_count": null,
   "id": "41699457-4f80-4b84-9e28-cb45904400a8",
   "metadata": {},
   "outputs": [],
   "source": [
    "te_df"
   ]
  },
  {
   "cell_type": "code",
   "execution_count": null,
   "id": "f685ab63-a849-4207-8576-557d12f09b1b",
   "metadata": {},
   "outputs": [],
   "source": [
    "rushing_columns = ['RushAtt', 'RushYDs', 'Y/A', 'RushTD']\n",
    "receiving_columns = ['Tgt', 'Rec', 'RecYDs', 'Y/R', 'RecTD']\n",
    "passing_columns = ['PassAtt', 'PassYDs', 'PassTD', 'Int']\n",
    "\n",
    "def transform_columns(df, new_column_list):\n",
    "    df = df[['Player', 'Tm', 'Age', 'G'] + new_column_list + ['FL']]\n",
    "    return df"
   ]
  },
  {
   "cell_type": "code",
   "execution_count": null,
   "id": "88fe5dbb-0392-4bc0-b194-46025cb9c26e",
   "metadata": {},
   "outputs": [],
   "source": [
    "rb_df = transform_columns(rb_df, rushing_columns+receiving_columns)\n",
    "wr_df = transform_columns(rb_df, rushing_columns+receiving_columns)\n",
    "te_df = transform_columns(te_df, receiving_columns)\n",
    "qb_df = transform_columns(qb_df, passing_columns)\n",
    "\n",
    "rb_df.head()"
   ]
  },
  {
   "cell_type": "code",
   "execution_count": null,
   "id": "6b3f75e8-c4d5-4ea4-87d4-87d9313769f6",
   "metadata": {},
   "outputs": [],
   "source": [
    "# targets + rushing TDs correlation to fantasy points per game for RBs in 2023\n",
    "\n",
    "# create new columns to calculate points scored\n",
    "rb_df['FanPoints'] = rb_df['RushYDs']*0.01 + rb_df['RushTD']*6 + rb_df['Rec'] + rb_df['RecYDs'] *0.01 + rb_df['RecYDs'] *0.01 + rb_df['RecTD']*6 - rb_df['FL']*2\n",
    "\n",
    "#create new column for fantasy points per game\n",
    "rb_df['FPPG'] = rb_df['FanPoints']/rb_df['G']\n",
    "rb_df['FPPG'] = rb_df['FPPG'].apply(lambda x: round(x,2))\n",
    "\n",
    "#create new column for usage per game. Defined by # targets + carries\n",
    "rb_df['Usage/GM'] = (rb_df['RushAtt'] + rb_df['Tgt'])/rb_df['G']\n",
    "#round each row value to two decimal places\n",
    "rb_df['Usage/GM'] = rb_df['Usage/GM'].apply(lambda x:round(x,2))\n",
    "\n",
    "#styling\n",
    "sns.set_style('whitegrid')\n",
    "\n",
    "#matplotlib canvas\n",
    "fig, ax = plt.subplots()\n",
    "fig.set_size_inches(15,10)\n",
    "\n",
    "#regression scatterplot with trendline\n",
    "plot = sns.regplot(\n",
    "    x=rb_df['Usage/GM'],\n",
    "    y=rb_df['FPPG'],\n",
    "    scatter=True)"
   ]
  },
  {
   "cell_type": "code",
   "execution_count": null,
   "id": "60456ed0-8c65-4843-ad2e-355ffef9330a",
   "metadata": {},
   "outputs": [],
   "source": [
    "#How does efficiency correlate to fantasy football performance?\n",
    "rb_df['TD/Usage'] = (rb_df['RushTD']+ rb_df['RecTD'])/(rb_df['RushAtt'] + rb_df['Tgt'])\n",
    "fig, ax = plt.subplots()\n",
    "fig.set_size_inches(15, 10)\n",
    "\n",
    "#Make sure there is an adequete sample size\n",
    "rb_df = rb_df[rb_df['RushAtt'] > 20]\n",
    "plot = sns.regplot(\n",
    "x=rb_df['TD/Usage'],\n",
    "y=rb_df['FPPG'],\n",
    "scatter=True)"
   ]
  },
  {
   "cell_type": "code",
   "execution_count": null,
   "id": "9a6a2315-5510-4ea7-9e5a-280fd6a81c49",
   "metadata": {},
   "outputs": [],
   "source": []
  }
 ],
 "metadata": {
  "kernelspec": {
   "display_name": "Python 3 (ipykernel)",
   "language": "python",
   "name": "python3"
  },
  "language_info": {
   "codemirror_mode": {
    "name": "ipython",
    "version": 3
   },
   "file_extension": ".py",
   "mimetype": "text/x-python",
   "name": "python",
   "nbconvert_exporter": "python",
   "pygments_lexer": "ipython3",
   "version": "3.9.6"
  }
 },
 "nbformat": 4,
 "nbformat_minor": 5
}
