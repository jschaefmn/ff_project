{
 "cells": [
  {
   "cell_type": "code",
   "execution_count": 1,
   "id": "6e83cce4-8305-4c94-a533-2498e42a3241",
   "metadata": {},
   "outputs": [],
   "source": [
    "import pandas as pd\n",
    "import numpy as np\n",
    "import seaborn as sns\n",
    "from matplotlib import pyplot as plt"
   ]
  },
  {
   "cell_type": "code",
   "execution_count": 2,
   "id": "4d0df9bc-c670-427f-8f3d-2b27829193ca",
   "metadata": {},
   "outputs": [],
   "source": [
    "df = pd.read_csv('data/2023_season_data.csv')\n",
    "df.drop(['Fmb', 'GS'], axis=1, inplace=True)\n",
    "df['Player'] = df ['Player'].apply(lambda x: x.split('*')[0]).apply(lambda x: x.split('\\\\')[0])\n",
    "df.rename({\n",
    "    'TD': 'PassTD',\n",
    "    'TD.1': 'RushTD',\n",
    "    'TD.2': 'RecTD',\n",
    "    'TD.3': 'TotTD',\n",
    "    'Yds': 'PassYDs',\n",
    "    'Yds.1': 'RushYDs',\n",
    "    'Yds.2': 'RecYDs',\n",
    "    'Att': 'PassAtt',\n",
    "    'Att.1': 'RushAtt'\n",
    "}, axis=1, inplace=True)"
   ]
  },
  {
   "cell_type": "code",
   "execution_count": 3,
   "id": "51906bf0-75e3-4dd2-9842-6e06fd4dfb7f",
   "metadata": {},
   "outputs": [
    {
     "name": "stderr",
     "output_type": "stream",
     "text": [
      "/var/folders/vs/xmhk2_kj3fxcz0lywh_43w0r0000gn/T/ipykernel_95467/167889750.py:10: SettingWithCopyWarning: \n",
      "A value is trying to be set on a copy of a slice from a DataFrame.\n",
      "Try using .loc[row_indexer,col_indexer] = value instead\n",
      "\n",
      "See the caveats in the documentation: https://pandas.pydata.org/pandas-docs/stable/user_guide/indexing.html#returning-a-view-versus-a-copy\n",
      "  rb_df['Rec/G'] = rb_df['Rec']/rb_df['G']\n"
     ]
    },
    {
     "data": {
      "text/html": [
       "<div>\n",
       "<style scoped>\n",
       "    .dataframe tbody tr th:only-of-type {\n",
       "        vertical-align: middle;\n",
       "    }\n",
       "\n",
       "    .dataframe tbody tr th {\n",
       "        vertical-align: top;\n",
       "    }\n",
       "\n",
       "    .dataframe thead th {\n",
       "        text-align: right;\n",
       "    }\n",
       "</style>\n",
       "<table border=\"1\" class=\"dataframe\">\n",
       "  <thead>\n",
       "    <tr style=\"text-align: right;\">\n",
       "      <th></th>\n",
       "      <th>Tm</th>\n",
       "      <th>FantPos</th>\n",
       "      <th>FanPoints</th>\n",
       "      <th>FPPG</th>\n",
       "    </tr>\n",
       "  </thead>\n",
       "  <tbody>\n",
       "    <tr>\n",
       "      <th>0</th>\n",
       "      <td>SFO</td>\n",
       "      <td>RB</td>\n",
       "      <td>214.87</td>\n",
       "      <td>13.429375</td>\n",
       "    </tr>\n",
       "    <tr>\n",
       "      <th>1</th>\n",
       "      <td>DAL</td>\n",
       "      <td>WR</td>\n",
       "      <td>251.11</td>\n",
       "      <td>14.771176</td>\n",
       "    </tr>\n",
       "    <tr>\n",
       "      <th>2</th>\n",
       "      <td>BUF</td>\n",
       "      <td>QB</td>\n",
       "      <td>87.24</td>\n",
       "      <td>5.131765</td>\n",
       "    </tr>\n",
       "    <tr>\n",
       "      <th>3</th>\n",
       "      <td>MIA</td>\n",
       "      <td>WR</td>\n",
       "      <td>231.13</td>\n",
       "      <td>14.445625</td>\n",
       "    </tr>\n",
       "    <tr>\n",
       "      <th>4</th>\n",
       "      <td>PHI</td>\n",
       "      <td>QB</td>\n",
       "      <td>86.05</td>\n",
       "      <td>5.061765</td>\n",
       "    </tr>\n",
       "  </tbody>\n",
       "</table>\n",
       "</div>"
      ],
      "text/plain": [
       "    Tm FantPos  FanPoints       FPPG\n",
       "0  SFO      RB     214.87  13.429375\n",
       "1  DAL      WR     251.11  14.771176\n",
       "2  BUF      QB      87.24   5.131765\n",
       "3  MIA      WR     231.13  14.445625\n",
       "4  PHI      QB      86.05   5.061765"
      ]
     },
     "execution_count": 3,
     "metadata": {},
     "output_type": "execute_result"
    }
   ],
   "source": [
    "# extra stuff before partitioning dataframes by positions\n",
    "df['FanPoints'] = df['RushYDs']*0.01 + df['RushTD']*6 + df['Rec'] + df['RecYDs'] *0.01 + df['RecYDs'] *0.01 + df['RecTD']*6 - df['FL']*2\n",
    "df['FPPG'] = df['FanPoints']/df['G']\n",
    "\n",
    "df = df[['Tm', 'FantPos', 'FanPoints', 'FPPG']]\n",
    "\n",
    "#remove players that were on 2 or more teams\n",
    "df = df[df['Tm'] != '2TM']\n",
    "df = df[df['Tm'] != '3TM']\n",
    "\n",
    "#separate dataframes based off position\n",
    "rb_df = df[df['FantPos'] == 'RB']\n",
    "qb_df = df[df['FantPos'] == 'QB']\n",
    "wr_df = df[df['FantPos'] == 'WR']\n",
    "te_df = df[df['FantPos'] == 'TE']"
   ]
  },
  {
   "cell_type": "code",
   "execution_count": null,
   "id": "20384ac3-cc08-48e9-9c7e-3c848501b725",
   "metadata": {},
   "outputs": [],
   "source": [
    "def get_top_players(df, n):\n",
    "    return df.groupby('Tm').apply(lambda x: x.nlargest(n, ['FanPoints']).min()).reset_index(drop=True)\n",
    "\n",
    "qb_df = get_top_players(qb_df, 1)\n",
    "te_df = get_top_players(te_df, 1)\n",
    "rb1_df = get_top_players(rb_df,1)\n",
    "rb2_df = get_top_players(rb_df, 2)\n",
    "wr1_df = get_top_players(wr_df, 1)\n",
    "wr2_df = get_top_players(wr_df, 2)\n",
    "wr3_df = get_top_players(wr_df, 3)\n",
    "\n",
    "new_names = {\n",
    "    'QB1': qb_df,\n",
    "    'TE1': te_df,\n",
    "    'RB1': rb1_df,\n",
    "    'RB2': rb2_df,\n",
    "    'WR1': wr1_df,\n",
    "    'WR2': wr2_df,\n",
    "    'WR3': wr3_df\n",
    "}\n",
    "\n",
    "for name, new_df in new_names.items():\n",
    "    new_df.rename({'FPPG':name},axis=1, inplace=True)\n",
    "    new_df.drop(['FantPos', 'FanPoints'],axis=1, inplace=True)\n",
    "    new_df.set_index('Tm', inplace=True)\n",
    "\n",
    "df = pd.concat([qb_df ,te_df ,rb1_df, rb2_df, wr1_df, wr2_df, wr3_df], axis=1)\n",
    "df.head()"
   ]
  },
  {
   "cell_type": "code",
   "execution_count": null,
   "id": "85d72d0c-56fa-4f1b-b50e-7cb08ec2e8cb",
   "metadata": {},
   "outputs": [],
   "source": [
    "corrMatrix = df.corr()\n",
    "\n",
    "fig, ax = plt.subplots()\n",
    "fig.set_size_inches(15,10)\n",
    "\n",
    "cmap = sns.diverging_palette(0, 250, as_cmap=True)\n",
    "\n",
    "vizCorrMatrix = sns.heatmap(corrMatrix, cmap=cmap, center=0)"
   ]
  },
  {
   "cell_type": "code",
   "execution_count": null,
   "id": "9e9562e2-89bc-4aea-a297-af295a63bdad",
   "metadata": {},
   "outputs": [],
   "source": []
  }
 ],
 "metadata": {
  "kernelspec": {
   "display_name": "Python 3 (ipykernel)",
   "language": "python",
   "name": "python3"
  },
  "language_info": {
   "codemirror_mode": {
    "name": "ipython",
    "version": 3
   },
   "file_extension": ".py",
   "mimetype": "text/x-python",
   "name": "python",
   "nbconvert_exporter": "python",
   "pygments_lexer": "ipython3",
   "version": "3.9.6"
  }
 },
 "nbformat": 4,
 "nbformat_minor": 5
}
